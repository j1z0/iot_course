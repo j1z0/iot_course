{
 "cells": [
  {
   "cell_type": "markdown",
   "metadata": {
    "slideshow": {
     "slide_type": "slide"
    }
   },
   "source": [
    "<h2><center> The Temple </center></h2>\n",
    "<img src=\"img/cloud_huts.jpg\" alt=\"huts in the clouds\" style=\"width: 400px;\"/>\n",
    "Cresting the top of the final stairs you feel like your lungs are about to collapse... man that was a long way up.  But the stillness of clouds and the odd huts surrounding you instantly pull you thoughts away from your heaving sides.\n",
    "\n",
    "The stillness of the place is overwhelming.  You are instantly met with a feeling of calm.  Then suddenly a screen materializes out of think air just out of arms reach..."
   ]
  },
  {
   "cell_type": "code",
   "execution_count": null,
   "metadata": {
    "slideshow": {
     "slide_type": "slide"
    }
   },
   "outputs": [
    {
     "name": "stdout",
     "output_type": "stream",
     "text": [
      "Mind Scroll Interface v0.1\n",
      "Welcome adept are you ready to begin your training?\n",
      "\n"
     ]
    }
   ],
   "source": [
    "# press Ctrl-Enter to run\n",
    "import scroll\n",
    "print(\"Mind Scroll Interface\", scroll.version)\n",
    "scroll.run('temple') \n"
   ]
  },
  {
   "cell_type": "markdown",
   "metadata": {
    "collapsed": true,
    "slideshow": {
     "slide_type": "slide"
    }
   },
   "source": [
    "<h2><center>Training Simulator</center></h2>\n",
    "\n",
    "The way a telepath percieves the \"message field\" is as a vast number of messages or colored dots hurling across space and time.  Our job then becomes to organize these messages that come from all over the place and direct them to the appropriate recipient in as organized a fashion as possible.\n",
    "\n",
    "<br>\n",
    "\n",
    "<center>\n",
    "![Organize the Path of Messages](img/organize_the_path.gif)\n",
    "    <h3>Organizing the path of messages</h3></center>\n",
    "\n",
    "\n",
    "<h2>How is this done</h2>\n",
    "\n",
    "To do this we rely on a few basic functions that we call to grab messages, transfrom them and put them on the correct path.  Let's have a look at the functions now:\n",
    "\n",
    "\n",
    "```python\n",
    "def send_msg(msg_text, path):\n",
    "    return path.add(msg_text)\n",
    "    \n",
    "def rec_msg(path, filter=None):\n",
    "    return path.get_msg_if_match_filter(filter)\n",
    "```\n",
    "\n",
    ":Todo sorry this lesson is not complete just yet... need to flesh out some animations for it to make sense.... the idea is basically to animated the individual dots in the above animated gif in response to the user calling send_msg, or rec_msg above.  Then the \"mind scroll\" will actually know if they typed the correct code and let the use know they are doing it correctly or not."
   ]
  },
  {
   "cell_type": "code",
   "execution_count": null,
   "metadata": {},
   "outputs": [],
   "source": []
  }
 ],
 "metadata": {
  "celltoolbar": "Slideshow",
  "kernelspec": {
   "display_name": "Python 3",
   "language": "python",
   "name": "python3"
  },
  "language_info": {
   "codemirror_mode": {
    "name": "ipython",
    "version": 3
   },
   "file_extension": ".py",
   "mimetype": "text/x-python",
   "name": "python",
   "nbconvert_exporter": "python",
   "pygments_lexer": "ipython3",
   "version": "3.6.4"
  },
  "livereveal": {
	"autolaunch": true
	}
 },
 "nbformat": 4,
 "nbformat_minor": 2
}
