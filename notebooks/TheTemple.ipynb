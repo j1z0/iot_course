{
 "cells": [
  {
   "cell_type": "markdown",
   "metadata": {},
   "source": [
    "<h1><center> The Temple </center></h1>\n",
    "\n",
    "Cresting the top of the final stairs you feel like your lungs are about to collapse... man that was a long way up.  But the stillness of clouds and the odd huts surrounding you instantly pull you thoughts away from your heaving sides.\n",
    "\n",
    "![huts in the clouds](img/cloud_huts.jpg)"
   ]
  },
  {
   "cell_type": "markdown",
   "metadata": {},
   "source": [
    "The silence is palpable, not even a whisper, but acompaning that silence is a peaceful stillness that almost instantly ... is interupted by a small screen appearing in the air at eye level just beyond arms reach.  The font is however extrodinarily retro and easy to read.  "
   ]
  },
  {
   "cell_type": "code",
   "execution_count": 1,
   "metadata": {},
   "outputs": [
    {
     "name": "stdout",
     "output_type": "stream",
     "text": [
      "Mind Scroll Interface v0.1\n",
      "Welcome adept are you ready to begin your training?$k\n",
      "Please input another answerno\n",
      "Please input another answerI don't want to start\n",
      "$Y\n",
      "$y\n"
     ]
    }
   ],
   "source": [
    "import scroll\n",
    "print(\"Mind Scroll Interface\", scroll.version)\n",
    "scroll.run('temple')\n"
   ]
  },
  {
   "cell_type": "code",
   "execution_count": null,
   "metadata": {},
   "outputs": [],
   "source": []
  },
  {
   "cell_type": "code",
   "execution_count": null,
   "metadata": {},
   "outputs": [],
   "source": []
  }
 ],
 "metadata": {
  "kernelspec": {
   "display_name": "Python 3",
   "language": "python",
   "name": "python3"
  },
  "language_info": {
   "codemirror_mode": {
    "name": "ipython",
    "version": 3
   },
   "file_extension": ".py",
   "mimetype": "text/x-python",
   "name": "python",
   "nbconvert_exporter": "python",
   "pygments_lexer": "ipython3",
   "version": "3.6.4"
  }
 },
 "nbformat": 4,
 "nbformat_minor": 2
}
