{
 "cells": [
  {
   "cell_type": "markdown",
   "metadata": {},
   "source": [
    "<h1><center> The Temple </center></h1>\n",
    "\n",
    "Cresting the top of the final stairs you feel like your lungs are about to collapse... man that was a long way up.  But the stillness of clouds and the odd huts surrounding you instantly pull you thoughts away from your heaving sides.\n",
    "\n",
    "![huts in the clouds](img/cloud_huts.jpg)"
   ]
  },
  {
   "cell_type": "markdown",
   "metadata": {},
   "source": [
    "The silence is palpable, not even a whisper, but acompaning that silence is a peaceful stillness that almost instantly ... is interupted by a small screen appearing in the air at eye level just beyond arms reach.  The font is however extrodinarily retro and easy to read.  "
   ]
  },
  {
   "cell_type": "code",
   "execution_count": 1,
   "metadata": {},
   "outputs": [
    {
     "name": "stdout",
     "output_type": "stream",
     "text": [
      "Mind Scroll Interface v0.1\n",
      "Welcome adept are you ready to begin your training?\n",
      "\n",
      "$y\n",
      "Ah, good choice... let's begin then.\n",
      "\n",
      "As telepaths, we connect mind, devices and code, routing messages from one place to another on behalf of the guild. This is especially benificiary when wizards want to craft spells to talk to enchanted objects, or enchantresses whant wizard spells to enhance their enchanted items.\n",
      "\n",
      "This difficult task requires concentration and mostly silence.\n",
      "\n",
      "Adept you must empty your mind to recieve the teachings.\n",
      "\n",
      "Is your mind clear? Are you ready to continue?\n",
      "\n",
      "$n\n",
      "Are you sure?no\n",
      "Did you try yquit\n",
      "$quit\n",
      "$y\n",
      "Excelent! Complete the exercise below, and I'll come back to check your work\n",
      "\n",
      "Shutting down interface.....\n",
      "\n"
     ]
    }
   ],
   "source": [
    "import scroll\n",
    "print(\"Mind Scroll Interface\", scroll.version)\n",
    "scroll.run('temple')\n"
   ]
  },
  {
   "cell_type": "code",
   "execution_count": null,
   "metadata": {},
   "outputs": [],
   "source": []
  },
  {
   "cell_type": "code",
   "execution_count": null,
   "metadata": {},
   "outputs": [],
   "source": []
  }
 ],
 "metadata": {
  "kernelspec": {
   "display_name": "Python 3",
   "language": "python",
   "name": "python3"
  },
  "language_info": {
   "codemirror_mode": {
    "name": "ipython",
    "version": 3
   },
   "file_extension": ".py",
   "mimetype": "text/x-python",
   "name": "python",
   "nbconvert_exporter": "python",
   "pygments_lexer": "ipython3",
   "version": "3.6.4"
  }
 },
 "nbformat": 4,
 "nbformat_minor": 2
}
